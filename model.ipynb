{
  "nbformat": 4,
  "nbformat_minor": 0,
  "metadata": {
    "colab": {
      "provenance": [],
      "collapsed_sections": [],
      "mount_file_id": "15moed8wm5MZugYtFHUc3CC8Qas_fFqif",
      "authorship_tag": "ABX9TyMF41/L1BdkgIB4VYKADr2j",
      "include_colab_link": true
    },
    "kernelspec": {
      "name": "python3",
      "display_name": "Python 3"
    },
    "language_info": {
      "name": "python"
    },
    "accelerator": "GPU",
    "gpuClass": "standard"
  },
  "cells": [
    {
      "cell_type": "markdown",
      "metadata": {
        "id": "view-in-github",
        "colab_type": "text"
      },
      "source": [
        "<a href=\"https://colab.research.google.com/github/SonDaYeong/CP1-YamPick/blob/main/model.ipynb\" target=\"_parent\"><img src=\"https://colab.research.google.com/assets/colab-badge.svg\" alt=\"Open In Colab\"/></a>"
      ]
    },
    {
      "cell_type": "code",
      "execution_count": null,
      "metadata": {
        "colab": {
          "base_uri": "https://localhost:8080/"
        },
        "id": "mZARVWCED5-V",
        "outputId": "0c0612e2-eb7d-4b41-94df-86c670596826"
      },
      "outputs": [
        {
          "output_type": "stream",
          "name": "stdout",
          "text": [
            "Reading package lists... Done\n",
            "Building dependency tree       \n",
            "Reading state information... Done\n",
            "The following package was automatically installed and is no longer required:\n",
            "  libnvidia-common-460\n",
            "Use 'apt autoremove' to remove it.\n",
            "The following NEW packages will be installed:\n",
            "  fonts-nanum\n",
            "0 upgraded, 1 newly installed, 0 to remove and 20 not upgraded.\n",
            "Need to get 9,604 kB of archives.\n",
            "After this operation, 29.5 MB of additional disk space will be used.\n",
            "Get:1 http://archive.ubuntu.com/ubuntu bionic/universe amd64 fonts-nanum all 20170925-1 [9,604 kB]\n",
            "Fetched 9,604 kB in 1s (18.4 MB/s)\n",
            "Selecting previously unselected package fonts-nanum.\n",
            "(Reading database ... 155685 files and directories currently installed.)\n",
            "Preparing to unpack .../fonts-nanum_20170925-1_all.deb ...\n",
            "Unpacking fonts-nanum (20170925-1) ...\n",
            "Setting up fonts-nanum (20170925-1) ...\n",
            "Processing triggers for fontconfig (2.12.6-0ubuntu2) ...\n"
          ]
        }
      ],
      "source": [
        "# 한글 폰트 설치하기 (꼭! 설치가 완료되면 [런타임 다시 시작]을 누르고 다시 실행하기)\n",
        "!apt install fonts-nanum -y\n",
        "\n",
        "import matplotlib\n",
        "import matplotlib.pyplot as plt\n",
        "import matplotlib.font_manager as fm\n",
        "\n",
        "# 한글 폰트 설정하기\n",
        "fontpath = '/usr/share/fonts/truetype/nanum/NanumBarunGothic.ttf'\n",
        "font = fm.FontProperties(fname=fontpath, size=10)\n",
        "plt.rc('font', family='NanumBarunGothic')\n",
        "matplotlib.font_manager._rebuild()\n",
        "\n",
        "from tensorflow.keras import Sequential\n",
        "from tensorflow.keras.layers import Dense, Conv2D, MaxPooling2D, Flatten, Dropout, GlobalAveragePooling2D\n",
        "from tensorflow.keras.models import Sequential\n",
        "from tensorflow.keras.datasets import cifar10\n",
        "\n",
        "from sklearn.model_selection import train_test_split\n",
        "\n",
        "import numpy as np\n",
        "import tensorflow as tf\n"
      ]
    },
    {
      "cell_type": "code",
      "source": [
        "np.random.seed(42)\n",
        "tf.random.set_seed(42)"
      ],
      "metadata": {
        "id": "c1xcVUuxExpY"
      },
      "execution_count": null,
      "outputs": []
    },
    {
      "cell_type": "code",
      "source": [
        "### 이미지 전처리\n",
        "from tensorflow.keras.preprocessing.image import ImageDataGenerator, array_to_img, img_to_array, load_img\n",
        "from tensorflow.keras.preprocessing import image_dataset_from_directory\n",
        "import os\n",
        "\n",
        "PATH = '/content/drive/MyDrive/CS/CP1/'\n",
        "image_size = 150\n",
        "\n",
        "original_datagen = ImageDataGenerator(rescale=1./255)\n",
        "train_datagen = ImageDataGenerator(\n",
        "    # https://keras.io/api/preprocessing/image/\n",
        "    # rotation_range=30,  #회전 범위\n",
        "    width_shift_range=0.1, #그림을 수평 수직 또는 랜덤하게 이동 -> 가로 세로에 대한 비율값\n",
        "    height_shift_range=0.1,\n",
        "    rescale=1./255, # 이미지 스케일링을 통해 0-1사이의 범위로 변환\n",
        "    shear_range=0.2, # 층 밀림 변환\n",
        "    zoom_range=0.2, #확대 축소 범위 \n",
        "    horizontal_flip=True # True : 50% 확률로 이미지를 수평으로 뒤집음 \n",
        "    # fill_mode='nearest' # 이미지 회전, 이동, 축소시 생기는 공간을 채우는 방식 \n",
        ")\n",
        "\n",
        "train_generator = train_datagen.flow_from_directory(\n",
        "        PATH+'train',\n",
        "        target_size=(image_size, image_size),\n",
        "        batch_size=32,\n",
        "        class_mode='categorical')\n",
        "        # class_mode='int')\n",
        "\n",
        "## 이미지 증강 X\n",
        "train_origin_generator = original_datagen.flow_from_directory(\n",
        "        PATH+'train',\n",
        "        target_size=(image_size, image_size),\n",
        "        batch_size=32,\n",
        "        class_mode='categorical')\n",
        "\n",
        "val_generator = original_datagen.flow_from_directory(\n",
        "        PATH+'test',\n",
        "        target_size=(image_size, image_size),\n",
        "        batch_size=32,\n",
        "        class_mode='categorical')\n",
        "        # class_mode='int')\n"
      ],
      "metadata": {
        "colab": {
          "base_uri": "https://localhost:8080/"
        },
        "id": "LUMJaSSKEzEH",
        "outputId": "7b1ea48a-baa8-41a2-ca02-3dc8fd8363e4"
      },
      "execution_count": null,
      "outputs": [
        {
          "output_type": "stream",
          "name": "stdout",
          "text": [
            "Found 3192 images belonging to 4 classes.\n",
            "Found 3192 images belonging to 4 classes.\n",
            "Found 813 images belonging to 4 classes.\n"
          ]
        }
      ]
    },
    {
      "cell_type": "code",
      "source": [
        "class_names = train_generator.class_indices\n",
        "class_names = {value:key for key, value in class_names.items()}\n",
        "class_names"
      ],
      "metadata": {
        "colab": {
          "base_uri": "https://localhost:8080/"
        },
        "id": "feodwPK0E0tw",
        "outputId": "04f43708-d5ad-46d5-f242-714ba0d7f4fb"
      },
      "execution_count": null,
      "outputs": [
        {
          "output_type": "execute_result",
          "data": {
            "text/plain": [
              "{0: '갈비찜', 1: '갈비탕', 2: '갈치구이', 3: '갈치조림'}"
            ]
          },
          "metadata": {},
          "execution_count": 26
        }
      ]
    },
    {
      "cell_type": "code",
      "source": [
        "num_classes = train_generator.num_classes\n",
        "epoch = 5"
      ],
      "metadata": {
        "id": "T5QTQzcoE6JX"
      },
      "execution_count": null,
      "outputs": []
    },
    {
      "cell_type": "code",
      "source": [
        "### vgg16 모델 활용\n",
        "from tensorflow.keras.applications import VGG16"
      ],
      "metadata": {
        "id": "Qacwrtx-E7k_"
      },
      "execution_count": null,
      "outputs": []
    },
    {
      "cell_type": "code",
      "source": [
        "vgg = VGG16(weights='imagenet', include_top=False, input_shape=(image_size,image_size,3))\n",
        "vgg.trainable=False\n",
        "\n",
        "vgg_ft = VGG16(weights='imagenet', include_top=False, input_shape=(image_size,image_size,3))\n",
        "vgg_ft.trainable=False"
      ],
      "metadata": {
        "id": "o_UnfQKvdIgO"
      },
      "execution_count": null,
      "outputs": []
    },
    {
      "cell_type": "code",
      "source": [
        "# vgg 기본\n",
        "vgg_ml = Sequential([\n",
        "    vgg,\n",
        "    Flatten(),\n",
        "    Dense(64, activation='relu'),\n",
        "    Dense(num_classes, activation='softmax')\n",
        "])\n",
        "\n",
        "# vgg 기본\n",
        "vgg_GAP_ml = Sequential([\n",
        "    vgg,\n",
        "    GlobalAveragePooling2D(),\n",
        "    Dense(64, activation='relu'),\n",
        "    Dense(num_classes, activation='softmax')\n",
        "])\n",
        "\n",
        "# drop_out 살리고 확인해보자.\n",
        "vgg_dropout_5_ml = Sequential([\n",
        "    vgg,\n",
        "    Flatten(),\n",
        "    Dense(128, activation='relu'),\n",
        "    Dropout(0.5),\n",
        "    Dense(64, activation='relu'),\n",
        "    Dropout(0.5),\n",
        "    Dense(num_classes, activation='softmax')\n",
        "])\n",
        "\n",
        "# drop_out 살리고 확인해보자.\n",
        "vgg_dropout_2_ml = Sequential([\n",
        "    vgg,\n",
        "    Flatten(),\n",
        "    Dense(128, activation='relu'),\n",
        "    Dropout(0.2),\n",
        "    Dense(64, activation='relu'),\n",
        "    Dropout(0.2),\n",
        "    Dense(num_classes, activation='softmax')\n",
        "])\n",
        "\n",
        "\n",
        "# # fine tuning 진행 \n",
        "vgg_ft.trainable=True\n",
        "for layer in vgg.layers[:15]:\n",
        "    layer.trainable = False\n",
        "\n",
        "vgg_ft_ml = Sequential([\n",
        "    vgg_ft,\n",
        "    Flatten(),\n",
        "    Dense(64, activation='relu'),\n",
        "    Dense(num_classes, activation='softmax')\n",
        "])\n",
        "\n",
        "\n",
        "vgg_ft_dropout_ml = Sequential([\n",
        "    vgg_ft,\n",
        "    Flatten(),\n",
        "    Dense(128, activation='relu'),\n",
        "    Dropout(0.2),\n",
        "    Dense(64, activation='relu'),\n",
        "    Dropout(0.2),\n",
        "    Dense(num_classes, activation='softmax')\n",
        "])"
      ],
      "metadata": {
        "id": "tdVkBNAHE9vo"
      },
      "execution_count": null,
      "outputs": []
    },
    {
      "cell_type": "code",
      "source": [
        "from tensorflow.keras.applications.resnet50 import ResNet50"
      ],
      "metadata": {
        "id": "t6KqK-T3PqQ2"
      },
      "execution_count": null,
      "outputs": []
    },
    {
      "cell_type": "code",
      "source": [
        "resnet = ResNet50(weights='imagenet', include_top=False, input_shape=(image_size,image_size,3))\n",
        "resnet_ft = ResNet50(weights='imagenet', include_top=False, input_shape=(image_size,image_size,3))\n",
        "\n",
        "for layer in resnet.layers:\n",
        "    layer.trainable = False\n",
        "\n",
        "# vgg 기본\n",
        "resnet_ml = Sequential([\n",
        "    resnet,\n",
        "    Flatten(),\n",
        "    Dense(64, activation='relu'),\n",
        "    Dense(num_classes, activation='softmax')\n",
        "])\n",
        "\n",
        "# vgg 기본\n",
        "resnet_GAP_ml = Sequential([\n",
        "    resnet,\n",
        "    GlobalAveragePooling2D(),\n",
        "    Dense(64, activation='relu'),\n",
        "    Dense(num_classes, activation='softmax')\n",
        "])\n",
        "\n",
        "# drop_out 살리고 확인해보자.\n",
        "resnet_dropout_5_ml = Sequential([\n",
        "    resnet,\n",
        "    Flatten(),\n",
        "    Dense(128, activation='relu'),\n",
        "    Dropout(0.5),\n",
        "    Dense(64, activation='relu'),\n",
        "    Dropout(0.5),\n",
        "    Dense(num_classes, activation='softmax')\n",
        "])\n",
        "\n",
        "# drop_out 살리고 확인해보자.\n",
        "resnet_dropout_2_ml = Sequential([\n",
        "    resnet,\n",
        "    Flatten(),\n",
        "    Dense(128, activation='relu'),\n",
        "    Dropout(0.2),\n",
        "    Dense(64, activation='relu'),\n",
        "    Dropout(0.2),\n",
        "    Dense(num_classes, activation='softmax')\n",
        "])\n",
        "\n",
        "# fine tuning 진행 \n",
        "resnet_ft.trainable=True\n",
        "for layer in resnet_ft.layers[:15]:\n",
        "    layer.trainable = False\n",
        "\n",
        "resnet_ft_ml = Sequential([\n",
        "    resnet_ft,\n",
        "    Flatten(),\n",
        "    Dense(64, activation='relu'),\n",
        "    Dense(num_classes, activation='softmax')\n",
        "])\n",
        "\n",
        "resnet_ft_dropout_ml = Sequential([\n",
        "    resnet_ft,\n",
        "    Flatten(),\n",
        "    Dense(128, activation='relu'),\n",
        "    Dropout(0.2),\n",
        "    Dense(64, activation='relu'),\n",
        "    Dropout(0.2),\n",
        "    Dense(num_classes, activation='softmax')\n",
        "])"
      ],
      "metadata": {
        "id": "wg35k12APl5K"
      },
      "execution_count": null,
      "outputs": []
    },
    {
      "cell_type": "code",
      "source": [],
      "metadata": {
        "id": "GkYtOAqvP19w"
      },
      "execution_count": null,
      "outputs": []
    },
    {
      "cell_type": "code",
      "source": [
        "##\n",
        "def image_augmentation_data(model):\n",
        "  model.compile(loss='categorical_crossentropy',\n",
        "            optimizer='adam',\n",
        "            metrics=['accuracy'])\n",
        "  # batch_size 128.. 적절한 batch size를 찾아야함\n",
        "  model_hist = model.fit_generator( \n",
        "                    train_generator,\n",
        "                    validation_data=val_generator,\n",
        "                    # batch_size = batch_size,\n",
        "                    epochs=epoch\n",
        "                  )\n",
        "  return model_hist\n",
        "\n",
        "# 데이터 증강 x\n",
        "def image_origin_data(model):\n",
        "  model.compile(loss='categorical_crossentropy',\n",
        "            optimizer='adam',\n",
        "            metrics=['accuracy'])\n",
        "  # batch_size 128.. 적절한 batch size를 찾아야함\n",
        "  model_hist = model.fit_generator( \n",
        "                    train_origin_generator,\n",
        "                    validation_data=val_generator,\n",
        "                    # batch_size = batch_size,\n",
        "                    epochs=epoch\n",
        "                  )\n",
        "\n",
        "  return model_hist"
      ],
      "metadata": {
        "id": "phvEjyADFCW8"
      },
      "execution_count": null,
      "outputs": []
    },
    {
      "cell_type": "code",
      "source": [
        "vgg_ml_list = [vgg_ml, vgg_GAP_ml, vgg_dropout_5_ml, vgg_dropout_2_ml, vgg_ft_ml, vgg_ft_dropout_ml]\n",
        "resnet_ml_list = [resnet_ml, resnet_GAP_ml, resnet_dropout_5_ml, resnet_dropout_2_ml, resnet_ft_ml, resnet_ft_dropout_ml]\n",
        "vgg_info_list = [\"기본 VGG Model & Flatten\", \"기본 VGG Model & Pooling\", \"VGG + Dropout(0.5)\", \"VGG + Dropout(0.2)\", \"VGG + Finetuning\", \"VGG + FineTuning + Dropout\"]\n",
        "resnet_info_list = [\"기본 Resnet Model & Flatten\", \"기본 Resnet Model & Pooling\", \"Resnet + Dropout(0.5)\", \"Resnet + Dropout(0.2)\", \"Resnet + Finetuning\", \"Resnet + FineTuning + Dropout\"]"
      ],
      "metadata": {
        "id": "Ib-AGEDCG-9c"
      },
      "execution_count": null,
      "outputs": []
    },
    {
      "cell_type": "code",
      "source": [
        "vgg_ml_ori_list = vgg_ml_list.deepcopy()"
      ],
      "metadata": {
        "id": "2SuBSDzwhQfd"
      },
      "execution_count": null,
      "outputs": []
    },
    {
      "cell_type": "code",
      "source": [
        "\n",
        "vg_ag_data_hist, vg_ori_data_hist = [], []\n",
        "for idx, model in enumerate(vgg_ml_list):\n",
        "  print(vgg_info_list[idx])\n",
        "  vg_ag_data_hist.append((model))\n",
        "  print(\"=========================image_augmentation_data(model))\n",
        "  vg_ag_data_hist.append(image_augmentation_data=========================\")\n",
        "\n",
        "resnet_ag_data_hist, resnet_ori_data_hist = [], []\n",
        "for idx, model in enumerate(resnet_ml_list):\n",
        "  print(resnet_info_list[idx])\n",
        "  resnet_ag_data_hist.append(image_augmentation_data(model))\n",
        "  resnet_ori_data_hist.append(image_origin_data(model))\n",
        "  print(\"==================================================\")\n"
      ],
      "metadata": {
        "colab": {
          "base_uri": "https://localhost:8080/"
        },
        "id": "ti4LoAFPG5wi",
        "outputId": "ecaa7498-1bda-47be-9e4e-882e1c7cb0cd"
      },
      "execution_count": null,
      "outputs": [
        {
          "output_type": "stream",
          "name": "stdout",
          "text": [
            "기본 VGG Model & Flatten\n"
          ]
        },
        {
          "output_type": "stream",
          "name": "stderr",
          "text": [
            "/usr/local/lib/python3.7/dist-packages/ipykernel_launcher.py:11: UserWarning: `Model.fit_generator` is deprecated and will be removed in a future version. Please use `Model.fit`, which supports generators.\n",
            "  # This is added back by InteractiveShellApp.init_path()\n"
          ]
        },
        {
          "output_type": "stream",
          "name": "stdout",
          "text": [
            "Epoch 1/5\n",
            "100/100 [==============================] - 54s 538ms/step - loss: 0.7548 - accuracy: 0.6958 - val_loss: 0.5319 - val_accuracy: 0.7995\n",
            "Epoch 2/5\n",
            "100/100 [==============================] - 55s 550ms/step - loss: 0.4895 - accuracy: 0.8130 - val_loss: 0.4815 - val_accuracy: 0.8229\n",
            "Epoch 3/5\n",
            "100/100 [==============================] - 53s 534ms/step - loss: 0.4352 - accuracy: 0.8268 - val_loss: 0.4804 - val_accuracy: 0.8130\n",
            "Epoch 4/5\n",
            "100/100 [==============================] - 55s 550ms/step - loss: 0.3818 - accuracy: 0.8477 - val_loss: 0.4715 - val_accuracy: 0.8327\n",
            "Epoch 5/5\n",
            "100/100 [==============================] - 53s 533ms/step - loss: 0.3378 - accuracy: 0.8741 - val_loss: 0.5163 - val_accuracy: 0.8143\n"
          ]
        },
        {
          "output_type": "stream",
          "name": "stderr",
          "text": [
            "/usr/local/lib/python3.7/dist-packages/ipykernel_launcher.py:25: UserWarning: `Model.fit_generator` is deprecated and will be removed in a future version. Please use `Model.fit`, which supports generators.\n"
          ]
        },
        {
          "output_type": "stream",
          "name": "stdout",
          "text": [
            "Epoch 1/5\n",
            "100/100 [==============================] - 41s 402ms/step - loss: 0.2738 - accuracy: 0.8957 - val_loss: 0.5689 - val_accuracy: 0.8057\n",
            "Epoch 2/5\n",
            "100/100 [==============================] - 39s 388ms/step - loss: 0.1571 - accuracy: 0.9502 - val_loss: 0.4991 - val_accuracy: 0.8499\n",
            "Epoch 3/5\n",
            "100/100 [==============================] - 39s 388ms/step - loss: 0.1048 - accuracy: 0.9718 - val_loss: 0.5143 - val_accuracy: 0.8401\n",
            "Epoch 4/5\n",
            "100/100 [==============================] - 40s 399ms/step - loss: 0.0581 - accuracy: 0.9893 - val_loss: 0.5149 - val_accuracy: 0.8585\n",
            "Epoch 5/5\n",
            "100/100 [==============================] - 38s 385ms/step - loss: 0.0423 - accuracy: 0.9934 - val_loss: 0.5483 - val_accuracy: 0.8462\n",
            "==================================================\n",
            "기본 VGG Model & Pooling\n",
            "Epoch 1/5\n",
            "100/100 [==============================] - 55s 549ms/step - loss: 0.9438 - accuracy: 0.6275 - val_loss: 0.7176 - val_accuracy: 0.7331\n",
            "Epoch 2/5\n",
            "100/100 [==============================] - 56s 556ms/step - loss: 0.6732 - accuracy: 0.7397 - val_loss: 0.6172 - val_accuracy: 0.7724\n",
            "Epoch 3/5\n",
            "100/100 [==============================] - 53s 531ms/step - loss: 0.5978 - accuracy: 0.7713 - val_loss: 0.5571 - val_accuracy: 0.7946\n",
            "Epoch 4/5\n",
            "100/100 [==============================] - 54s 543ms/step - loss: 0.5472 - accuracy: 0.7832 - val_loss: 0.5371 - val_accuracy: 0.7872\n",
            "Epoch 5/5\n",
            "100/100 [==============================] - 53s 532ms/step - loss: 0.5323 - accuracy: 0.7954 - val_loss: 0.5225 - val_accuracy: 0.8044\n",
            "Epoch 1/5\n",
            "100/100 [==============================] - 41s 402ms/step - loss: 0.4642 - accuracy: 0.8148 - val_loss: 0.5207 - val_accuracy: 0.8093\n",
            "Epoch 2/5\n",
            "100/100 [==============================] - 39s 390ms/step - loss: 0.4253 - accuracy: 0.8418 - val_loss: 0.4987 - val_accuracy: 0.8155\n",
            "Epoch 3/5\n",
            "100/100 [==============================] - 39s 386ms/step - loss: 0.4101 - accuracy: 0.8430 - val_loss: 0.5237 - val_accuracy: 0.7983\n",
            "Epoch 4/5\n",
            "100/100 [==============================] - 44s 443ms/step - loss: 0.3976 - accuracy: 0.8456 - val_loss: 0.4859 - val_accuracy: 0.8253\n",
            "Epoch 5/5\n",
            "100/100 [==============================] - 42s 415ms/step - loss: 0.3673 - accuracy: 0.8622 - val_loss: 0.4814 - val_accuracy: 0.8339\n",
            "==================================================\n",
            "VGG + Dropout(0.5)\n",
            "Epoch 1/5\n",
            "100/100 [==============================] - 56s 553ms/step - loss: 1.2002 - accuracy: 0.4778 - val_loss: 0.8383 - val_accuracy: 0.7073\n",
            "Epoch 2/5\n",
            "100/100 [==============================] - 54s 536ms/step - loss: 0.8961 - accuracy: 0.6181 - val_loss: 0.6669 - val_accuracy: 0.7565\n",
            "Epoch 3/5\n",
            "100/100 [==============================] - 53s 534ms/step - loss: 0.7886 - accuracy: 0.6729 - val_loss: 0.6029 - val_accuracy: 0.7589\n",
            "Epoch 4/5\n",
            "100/100 [==============================] - 61s 611ms/step - loss: 0.7707 - accuracy: 0.6805 - val_loss: 0.5783 - val_accuracy: 0.7823\n",
            "Epoch 5/5\n",
            "100/100 [==============================] - 56s 557ms/step - loss: 0.7410 - accuracy: 0.7033 - val_loss: 0.6272 - val_accuracy: 0.7786\n",
            "Epoch 1/5\n",
            "100/100 [==============================] - 47s 461ms/step - loss: 0.6418 - accuracy: 0.7412 - val_loss: 0.5264 - val_accuracy: 0.8180\n",
            "Epoch 2/5\n",
            "100/100 [==============================] - 39s 393ms/step - loss: 0.5512 - accuracy: 0.7967 - val_loss: 0.5211 - val_accuracy: 0.8057\n",
            "Epoch 3/5\n",
            "100/100 [==============================] - 39s 394ms/step - loss: 0.5175 - accuracy: 0.7948 - val_loss: 0.5168 - val_accuracy: 0.8192\n",
            "Epoch 4/5\n",
            "100/100 [==============================] - 40s 400ms/step - loss: 0.4717 - accuracy: 0.8102 - val_loss: 0.5500 - val_accuracy: 0.8143\n",
            "Epoch 5/5\n",
            "100/100 [==============================] - 38s 385ms/step - loss: 0.4274 - accuracy: 0.8383 - val_loss: 0.5530 - val_accuracy: 0.8118\n",
            "==================================================\n",
            "VGG + Dropout(0.2)\n",
            "Epoch 1/5\n",
            "100/100 [==============================] - 55s 544ms/step - loss: 0.8596 - accuracy: 0.6413 - val_loss: 0.6049 - val_accuracy: 0.7614\n",
            "Epoch 2/5\n",
            "100/100 [==============================] - 53s 533ms/step - loss: 0.6308 - accuracy: 0.7459 - val_loss: 0.5770 - val_accuracy: 0.7823\n",
            "Epoch 3/5\n",
            "100/100 [==============================] - 53s 527ms/step - loss: 0.5602 - accuracy: 0.7763 - val_loss: 0.6006 - val_accuracy: 0.7737\n",
            "Epoch 4/5\n",
            "100/100 [==============================] - 59s 587ms/step - loss: 0.5045 - accuracy: 0.8108 - val_loss: 0.4902 - val_accuracy: 0.8130\n",
            "Epoch 5/5\n",
            "100/100 [==============================] - 62s 624ms/step - loss: 0.4811 - accuracy: 0.8127 - val_loss: 0.5616 - val_accuracy: 0.7970\n",
            "Epoch 1/5\n",
            "100/100 [==============================] - 45s 441ms/step - loss: 0.3945 - accuracy: 0.8559 - val_loss: 0.4951 - val_accuracy: 0.8241\n",
            "Epoch 2/5\n",
            "100/100 [==============================] - 39s 388ms/step - loss: 0.2868 - accuracy: 0.8857 - val_loss: 0.4973 - val_accuracy: 0.8364\n",
            "Epoch 3/5\n",
            "100/100 [==============================] - 39s 393ms/step - loss: 0.2281 - accuracy: 0.9138 - val_loss: 0.5732 - val_accuracy: 0.8327\n",
            "Epoch 4/5\n",
            "100/100 [==============================] - 42s 422ms/step - loss: 0.1860 - accuracy: 0.9317 - val_loss: 0.5406 - val_accuracy: 0.8266\n",
            "Epoch 5/5\n",
            "100/100 [==============================] - 49s 492ms/step - loss: 0.1246 - accuracy: 0.9549 - val_loss: 0.6019 - val_accuracy: 0.8327\n",
            "==================================================\n",
            "VGG + Finetuning\n",
            "Epoch 1/5\n",
            "100/100 [==============================] - 64s 602ms/step - loss: 1.6881 - accuracy: 0.2588 - val_loss: 1.3863 - val_accuracy: 0.2485\n",
            "Epoch 2/5\n",
            "100/100 [==============================] - 59s 586ms/step - loss: 1.3864 - accuracy: 0.2500 - val_loss: 1.3863 - val_accuracy: 0.2485\n",
            "Epoch 3/5\n",
            "100/100 [==============================] - 57s 574ms/step - loss: 1.3865 - accuracy: 0.2444 - val_loss: 1.3863 - val_accuracy: 0.2485\n",
            "Epoch 4/5\n",
            "100/100 [==============================] - 58s 575ms/step - loss: 1.3864 - accuracy: 0.2368 - val_loss: 1.3863 - val_accuracy: 0.2485\n",
            "Epoch 5/5\n",
            "100/100 [==============================] - 57s 566ms/step - loss: 1.3864 - accuracy: 0.2362 - val_loss: 1.3863 - val_accuracy: 0.2485\n",
            "Epoch 1/5\n",
            "100/100 [==============================] - 46s 448ms/step - loss: 1.3865 - accuracy: 0.2478 - val_loss: 1.3863 - val_accuracy: 0.2485\n",
            "Epoch 2/5\n",
            "100/100 [==============================] - 43s 425ms/step - loss: 1.3865 - accuracy: 0.2459 - val_loss: 1.3863 - val_accuracy: 0.2485\n",
            "Epoch 3/5\n",
            "100/100 [==============================] - 43s 433ms/step - loss: 1.3865 - accuracy: 0.2287 - val_loss: 1.3863 - val_accuracy: 0.2485\n",
            "Epoch 4/5\n",
            "100/100 [==============================] - 42s 421ms/step - loss: 1.3864 - accuracy: 0.2353 - val_loss: 1.3863 - val_accuracy: 0.2485\n",
            "Epoch 5/5\n",
            "100/100 [==============================] - 43s 429ms/step - loss: 1.3864 - accuracy: 0.2400 - val_loss: 1.3863 - val_accuracy: 0.2485\n",
            "==================================================\n",
            "VGG + FineTuning + Dropout\n",
            "Epoch 1/5\n",
            "100/100 [==============================] - 58s 575ms/step - loss: 1.3864 - accuracy: 0.2478 - val_loss: 1.3863 - val_accuracy: 0.2485\n",
            "Epoch 2/5\n",
            "100/100 [==============================] - 58s 579ms/step - loss: 1.3864 - accuracy: 0.2419 - val_loss: 1.3863 - val_accuracy: 0.2546\n",
            "Epoch 3/5\n",
            "100/100 [==============================] - 57s 568ms/step - loss: 1.3864 - accuracy: 0.2346 - val_loss: 1.3863 - val_accuracy: 0.2485\n",
            "Epoch 4/5\n",
            "100/100 [==============================] - 58s 578ms/step - loss: 1.3864 - accuracy: 0.2393 - val_loss: 1.3863 - val_accuracy: 0.2546\n",
            "Epoch 5/5\n",
            "100/100 [==============================] - 56s 565ms/step - loss: 1.3864 - accuracy: 0.2321 - val_loss: 1.3863 - val_accuracy: 0.2485\n",
            "Epoch 1/5\n",
            "100/100 [==============================] - 43s 424ms/step - loss: 1.3864 - accuracy: 0.2403 - val_loss: 1.3863 - val_accuracy: 0.2485\n",
            "Epoch 2/5\n",
            "100/100 [==============================] - 43s 428ms/step - loss: 1.3864 - accuracy: 0.2375 - val_loss: 1.3863 - val_accuracy: 0.2546\n",
            "Epoch 3/5\n",
            "100/100 [==============================] - 42s 422ms/step - loss: 1.3865 - accuracy: 0.2403 - val_loss: 1.3863 - val_accuracy: 0.2485\n",
            "Epoch 4/5\n",
            "100/100 [==============================] - 42s 420ms/step - loss: 1.3864 - accuracy: 0.2406 - val_loss: 1.3863 - val_accuracy: 0.2546\n",
            "Epoch 5/5\n",
            "100/100 [==============================] - 43s 431ms/step - loss: 1.3864 - accuracy: 0.2437 - val_loss: 1.3863 - val_accuracy: 0.2485\n",
            "==================================================\n",
            "기본 Resnet Model & Flatten\n",
            "Epoch 1/5\n",
            "100/100 [==============================] - 59s 554ms/step - loss: 1.5426 - accuracy: 0.3086 - val_loss: 1.3231 - val_accuracy: 0.3260\n",
            "Epoch 2/5\n",
            "100/100 [==============================] - 53s 527ms/step - loss: 1.3426 - accuracy: 0.3202 - val_loss: 1.3099 - val_accuracy: 0.3715\n",
            "Epoch 3/5\n",
            "100/100 [==============================] - 54s 541ms/step - loss: 1.3262 - accuracy: 0.3368 - val_loss: 1.3126 - val_accuracy: 0.3727\n",
            "Epoch 4/5\n",
            "100/100 [==============================] - 53s 533ms/step - loss: 1.3399 - accuracy: 0.3465 - val_loss: 1.3987 - val_accuracy: 0.2940\n",
            "Epoch 5/5\n",
            "100/100 [==============================] - 54s 537ms/step - loss: 1.3544 - accuracy: 0.3148 - val_loss: 1.3305 - val_accuracy: 0.3813\n",
            "Epoch 1/5\n",
            "100/100 [==============================] - 44s 412ms/step - loss: 1.3155 - accuracy: 0.3916 - val_loss: 1.3031 - val_accuracy: 0.4133\n",
            "Epoch 2/5\n",
            "100/100 [==============================] - 39s 392ms/step - loss: 1.2765 - accuracy: 0.4126 - val_loss: 1.3140 - val_accuracy: 0.3333\n",
            "Epoch 3/5\n",
            "100/100 [==============================] - 39s 389ms/step - loss: 1.2503 - accuracy: 0.4245 - val_loss: 1.2807 - val_accuracy: 0.4121\n",
            "Epoch 4/5\n",
            "100/100 [==============================] - 40s 398ms/step - loss: 1.2299 - accuracy: 0.4461 - val_loss: 1.2359 - val_accuracy: 0.4637\n",
            "Epoch 5/5\n",
            "100/100 [==============================] - 39s 390ms/step - loss: 1.1708 - accuracy: 0.4796 - val_loss: 1.2055 - val_accuracy: 0.4034\n",
            "==================================================\n",
            "기본 Resnet Model & Pooling\n",
            "Epoch 1/5\n",
            "100/100 [==============================] - 58s 551ms/step - loss: 1.3763 - accuracy: 0.2838 - val_loss: 1.3264 - val_accuracy: 0.3702\n",
            "Epoch 2/5\n",
            "100/100 [==============================] - 53s 527ms/step - loss: 1.3445 - accuracy: 0.3427 - val_loss: 1.3293 - val_accuracy: 0.3419\n",
            "Epoch 3/5\n",
            "100/100 [==============================] - 54s 541ms/step - loss: 1.3088 - accuracy: 0.3756 - val_loss: 1.3131 - val_accuracy: 0.3616\n",
            "Epoch 4/5\n",
            "100/100 [==============================] - 53s 527ms/step - loss: 1.3178 - accuracy: 0.3766 - val_loss: 1.2694 - val_accuracy: 0.4133\n",
            "Epoch 5/5\n",
            "100/100 [==============================] - 54s 542ms/step - loss: 1.2878 - accuracy: 0.3979 - val_loss: 1.2512 - val_accuracy: 0.4256\n",
            "Epoch 1/5\n",
            "100/100 [==============================] - 44s 414ms/step - loss: 1.2464 - accuracy: 0.4286 - val_loss: 1.2414 - val_accuracy: 0.4170\n",
            "Epoch 2/5\n",
            "100/100 [==============================] - 39s 392ms/step - loss: 1.2275 - accuracy: 0.4380 - val_loss: 1.2114 - val_accuracy: 0.4588\n",
            "Epoch 3/5\n",
            "100/100 [==============================] - 40s 401ms/step - loss: 1.2136 - accuracy: 0.4549 - val_loss: 1.2695 - val_accuracy: 0.4305\n",
            "Epoch 4/5\n",
            "100/100 [==============================] - 39s 387ms/step - loss: 1.1908 - accuracy: 0.4659 - val_loss: 1.1859 - val_accuracy: 0.4662\n",
            "Epoch 5/5\n",
            "100/100 [==============================] - 39s 389ms/step - loss: 1.1862 - accuracy: 0.4727 - val_loss: 1.2130 - val_accuracy: 0.4244\n",
            "==================================================\n",
            "Resnet + Dropout(0.5)\n",
            "Epoch 1/5\n",
            "100/100 [==============================] - 58s 552ms/step - loss: 1.5939 - accuracy: 0.2484 - val_loss: 1.3802 - val_accuracy: 0.2780\n",
            "Epoch 2/5\n",
            "100/100 [==============================] - 53s 533ms/step - loss: 1.3887 - accuracy: 0.2387 - val_loss: 1.3863 - val_accuracy: 0.2485\n",
            "Epoch 3/5\n",
            "100/100 [==============================] - 54s 535ms/step - loss: 1.3865 - accuracy: 0.2434 - val_loss: 1.3863 - val_accuracy: 0.2485\n",
            "Epoch 4/5\n",
            "100/100 [==============================] - 54s 532ms/step - loss: 1.3865 - accuracy: 0.2428 - val_loss: 1.3864 - val_accuracy: 0.2485\n",
            "Epoch 5/5\n",
            "100/100 [==============================] - 53s 530ms/step - loss: 1.3857 - accuracy: 0.2356 - val_loss: 1.3864 - val_accuracy: 0.2472\n",
            "Epoch 1/5\n",
            "100/100 [==============================] - 44s 410ms/step - loss: 1.3869 - accuracy: 0.2425 - val_loss: 1.3864 - val_accuracy: 0.2472\n",
            "Epoch 2/5\n",
            "100/100 [==============================] - 39s 389ms/step - loss: 1.3867 - accuracy: 0.2450 - val_loss: 1.3863 - val_accuracy: 0.2485\n",
            "Epoch 3/5\n",
            "100/100 [==============================] - 39s 388ms/step - loss: 1.3864 - accuracy: 0.2397 - val_loss: 1.3863 - val_accuracy: 0.2485\n",
            "Epoch 4/5\n",
            "100/100 [==============================] - 40s 400ms/step - loss: 1.3863 - accuracy: 0.2362 - val_loss: 1.3863 - val_accuracy: 0.2485\n",
            "Epoch 5/5\n",
            "100/100 [==============================] - 39s 388ms/step - loss: 1.3865 - accuracy: 0.2491 - val_loss: 1.3863 - val_accuracy: 0.2485\n",
            "==================================================\n",
            "Resnet + Dropout(0.2)\n",
            "Epoch 1/5\n",
            "100/100 [==============================] - 58s 549ms/step - loss: 1.4832 - accuracy: 0.2578 - val_loss: 1.3787 - val_accuracy: 0.2595\n",
            "Epoch 2/5\n",
            "100/100 [==============================] - 53s 528ms/step - loss: 1.3790 - accuracy: 0.2628 - val_loss: 1.3773 - val_accuracy: 0.2472\n",
            "Epoch 3/5\n",
            "100/100 [==============================] - 54s 541ms/step - loss: 1.3746 - accuracy: 0.2619 - val_loss: 1.3672 - val_accuracy: 0.2718\n",
            "Epoch 4/5\n",
            "100/100 [==============================] - 53s 529ms/step - loss: 1.3733 - accuracy: 0.2632 - val_loss: 1.3668 - val_accuracy: 0.3137\n",
            "Epoch 5/5\n",
            "100/100 [==============================] - 54s 545ms/step - loss: 1.3636 - accuracy: 0.2788 - val_loss: 1.3499 - val_accuracy: 0.2952\n",
            "Epoch 1/5\n",
            "100/100 [==============================] - 44s 409ms/step - loss: 1.3589 - accuracy: 0.2923 - val_loss: 1.3638 - val_accuracy: 0.2804\n",
            "Epoch 2/5\n",
            "100/100 [==============================] - 39s 388ms/step - loss: 1.3639 - accuracy: 0.2744 - val_loss: 1.3776 - val_accuracy: 0.2681\n",
            "Epoch 3/5\n",
            "100/100 [==============================] - 39s 394ms/step - loss: 1.3592 - accuracy: 0.2882 - val_loss: 1.3499 - val_accuracy: 0.2927\n",
            "Epoch 4/5\n",
            "100/100 [==============================] - 40s 400ms/step - loss: 1.3446 - accuracy: 0.3026 - val_loss: 1.3411 - val_accuracy: 0.3075\n",
            "Epoch 5/5\n",
            "100/100 [==============================] - 39s 388ms/step - loss: 1.3389 - accuracy: 0.3064 - val_loss: 1.3275 - val_accuracy: 0.3223\n",
            "==================================================\n",
            "Resnet + Finetuning\n",
            "Epoch 1/5\n",
            "100/100 [==============================] - 64s 585ms/step - loss: 1.4822 - accuracy: 0.6541 - val_loss: 7.2968 - val_accuracy: 0.2485\n",
            "Epoch 2/5\n",
            "100/100 [==============================] - 56s 557ms/step - loss: 0.6640 - accuracy: 0.7610 - val_loss: 8.7843 - val_accuracy: 0.2485\n",
            "Epoch 3/5\n",
            "100/100 [==============================] - 57s 569ms/step - loss: 0.6295 - accuracy: 0.7597 - val_loss: 11.4691 - val_accuracy: 0.2485\n",
            "Epoch 4/5\n",
            "100/100 [==============================] - 57s 564ms/step - loss: 0.6206 - accuracy: 0.7534 - val_loss: 1.3862 - val_accuracy: 0.2546\n",
            "Epoch 5/5\n",
            "100/100 [==============================] - 56s 556ms/step - loss: 0.7049 - accuracy: 0.7378 - val_loss: 13.0197 - val_accuracy: 0.2485\n",
            "Epoch 1/5\n",
            "100/100 [==============================] - 48s 435ms/step - loss: 0.6920 - accuracy: 0.7437 - val_loss: 1.3863 - val_accuracy: 0.2546\n",
            "Epoch 2/5\n",
            "100/100 [==============================] - 41s 413ms/step - loss: 0.6362 - accuracy: 0.7528 - val_loss: 3.2519 - val_accuracy: 0.3665\n",
            "Epoch 3/5\n",
            "100/100 [==============================] - 41s 412ms/step - loss: 0.4762 - accuracy: 0.8358 - val_loss: 9.6806 - val_accuracy: 0.2546\n",
            "Epoch 4/5\n",
            "100/100 [==============================] - 42s 421ms/step - loss: 0.3888 - accuracy: 0.8662 - val_loss: 3.4727 - val_accuracy: 0.4932\n",
            "Epoch 5/5\n",
            "100/100 [==============================] - 41s 410ms/step - loss: 0.3362 - accuracy: 0.8737 - val_loss: 1.2167 - val_accuracy: 0.7429\n",
            "==================================================\n",
            "Resnet + FineTuning + Dropout\n",
            "Epoch 1/5\n",
            "100/100 [==============================] - 63s 576ms/step - loss: 2.2655 - accuracy: 0.7393 - val_loss: 3.9491 - val_accuracy: 0.4428\n",
            "Epoch 2/5\n",
            "100/100 [==============================] - 58s 581ms/step - loss: 0.6422 - accuracy: 0.8108 - val_loss: 1.9455 - val_accuracy: 0.7540\n",
            "Epoch 3/5\n",
            "100/100 [==============================] - 58s 580ms/step - loss: 0.5452 - accuracy: 0.8308 - val_loss: 1.1130 - val_accuracy: 0.7417\n",
            "Epoch 4/5\n",
            "100/100 [==============================] - 56s 562ms/step - loss: 0.6332 - accuracy: 0.8195 - val_loss: 9.8054 - val_accuracy: 0.7368\n",
            "Epoch 5/5\n",
            "100/100 [==============================] - 57s 568ms/step - loss: 0.5437 - accuracy: 0.8224 - val_loss: 0.8322 - val_accuracy: 0.8167\n",
            "Epoch 1/5\n",
            "100/100 [==============================] - 49s 443ms/step - loss: 0.4703 - accuracy: 0.8521 - val_loss: 1.1008 - val_accuracy: 0.8204\n",
            "Epoch 2/5\n",
            "100/100 [==============================] - 42s 421ms/step - loss: 0.3403 - accuracy: 0.8872 - val_loss: 1.6891 - val_accuracy: 0.7651\n",
            "Epoch 3/5\n",
            "100/100 [==============================] - 43s 431ms/step - loss: 0.3334 - accuracy: 0.9082 - val_loss: 1.5191 - val_accuracy: 0.6888\n",
            "Epoch 4/5\n",
            "100/100 [==============================] - 42s 418ms/step - loss: 0.3220 - accuracy: 0.8907 - val_loss: 0.5962 - val_accuracy: 0.8450\n",
            "Epoch 5/5\n",
            "100/100 [==============================] - 42s 420ms/step - loss: 0.5935 - accuracy: 0.8788 - val_loss: 3516.3511 - val_accuracy: 0.2485\n",
            "==================================================\n"
          ]
        }
      ]
    },
    {
      "cell_type": "code",
      "source": [
        "import copy\n",
        "vg_ag_data_hist_fin, vg_ori_data_hist_fin = [], []\n",
        "for idx, model in enumerate(vgg_ml_list):\n",
        "  print(vgg_info_list[idx])\n",
        "  print(\"==============augmentation==============\")\n",
        "  vg_ag_data_hist_fin.append(image_augmentation_data(copy.deepcopy(model)))\n",
        "  print(\"===============origin====================\")\n",
        "  vg_ori_data_hist_fin.append(image_origin_data(copy.deepcopy(model)))\n",
        "  print(\"==================================================\")\n",
        "\n",
        "resnet_ag_data_hist_fin, resnet_ori_data_hist_fin = [], []\n",
        "for idx, model in enumerate(resnet_ml_list):\n",
        "  print(resnet_info_list[idx])\n",
        "  print(\"==============augmentation==============\")\n",
        "  resnet_ag_data_hist_fin.append(image_augmentation_data(copy.deepcopy(model)))\n",
        "  print(\"===============origin====================\")\n",
        "  resnet_ori_data_hist_fin.append(image_origin_data(copy.deepcopy(model)))\n",
        "  print(\"==================================================\")\n"
      ],
      "metadata": {
        "colab": {
          "base_uri": "https://localhost:8080/"
        },
        "id": "Vtz9dRtXkioU",
        "outputId": "0cb79343-dbb1-4afb-cc6c-9436a01b2ed9"
      },
      "execution_count": null,
      "outputs": [
        {
          "output_type": "stream",
          "name": "stdout",
          "text": [
            "기본 VGG Model & Flatten\n",
            "==============augmentation==============\n"
          ]
        },
        {
          "output_type": "stream",
          "name": "stderr",
          "text": [
            "/usr/local/lib/python3.7/dist-packages/ipykernel_launcher.py:11: UserWarning: `Model.fit_generator` is deprecated and will be removed in a future version. Please use `Model.fit`, which supports generators.\n",
            "  # This is added back by InteractiveShellApp.init_path()\n"
          ]
        },
        {
          "output_type": "stream",
          "name": "stdout",
          "text": [
            "Epoch 1/5\n",
            "100/100 [==============================] - 55s 540ms/step - loss: 0.3094 - accuracy: 0.8853 - val_loss: 0.5138 - val_accuracy: 0.8401\n",
            "Epoch 2/5\n",
            "100/100 [==============================] - 54s 537ms/step - loss: 0.2697 - accuracy: 0.8997 - val_loss: 0.5429 - val_accuracy: 0.8278\n",
            "Epoch 3/5\n",
            "100/100 [==============================] - 54s 544ms/step - loss: 0.2533 - accuracy: 0.8982 - val_loss: 0.4917 - val_accuracy: 0.8364\n",
            "Epoch 4/5\n",
            "100/100 [==============================] - 53s 528ms/step - loss: 0.2645 - accuracy: 0.8907 - val_loss: 0.5973 - val_accuracy: 0.8069\n",
            "Epoch 5/5\n",
            "100/100 [==============================] - 54s 538ms/step - loss: 0.2296 - accuracy: 0.9142 - val_loss: 0.4952 - val_accuracy: 0.8364\n",
            "===============origin====================\n"
          ]
        },
        {
          "output_type": "stream",
          "name": "stderr",
          "text": [
            "/usr/local/lib/python3.7/dist-packages/ipykernel_launcher.py:11: UserWarning: `Model.fit_generator` is deprecated and will be removed in a future version. Please use `Model.fit`, which supports generators.\n",
            "  # This is added back by InteractiveShellApp.init_path()\n"
          ]
        },
        {
          "output_type": "stream",
          "name": "stdout",
          "text": [
            "Epoch 1/5\n",
            "100/100 [==============================] - 54s 530ms/step - loss: 0.3194 - accuracy: 0.8850 - val_loss: 0.5653 - val_accuracy: 0.8266\n",
            "Epoch 2/5\n",
            "100/100 [==============================] - 54s 539ms/step - loss: 0.2764 - accuracy: 0.8963 - val_loss: 0.6301 - val_accuracy: 0.8044\n",
            "Epoch 3/5\n",
            "100/100 [==============================] - 53s 527ms/step - loss: 0.2572 - accuracy: 0.8997 - val_loss: 0.5401 - val_accuracy: 0.8303\n",
            "Epoch 4/5\n",
            "100/100 [==============================] - 54s 543ms/step - loss: 0.2337 - accuracy: 0.9085 - val_loss: 0.4762 - val_accuracy: 0.8376\n",
            "Epoch 5/5\n",
            "100/100 [==============================] - 54s 537ms/step - loss: 0.2541 - accuracy: 0.9013 - val_loss: 0.4789 - val_accuracy: 0.8352\n",
            "==================================================\n",
            "기본 VGG Model & Pooling\n",
            "==============augmentation==============\n"
          ]
        },
        {
          "output_type": "stream",
          "name": "stderr",
          "text": [
            "/usr/local/lib/python3.7/dist-packages/ipykernel_launcher.py:11: UserWarning: `Model.fit_generator` is deprecated and will be removed in a future version. Please use `Model.fit`, which supports generators.\n",
            "  # This is added back by InteractiveShellApp.init_path()\n"
          ]
        },
        {
          "output_type": "stream",
          "name": "stdout",
          "text": [
            "Epoch 1/5\n",
            "100/100 [==============================] - 54s 531ms/step - loss: 0.4386 - accuracy: 0.8255 - val_loss: 0.4874 - val_accuracy: 0.8167\n",
            "Epoch 2/5\n",
            "100/100 [==============================] - 54s 544ms/step - loss: 0.4315 - accuracy: 0.8289 - val_loss: 0.4769 - val_accuracy: 0.8216\n",
            "Epoch 3/5\n",
            "100/100 [==============================] - 53s 528ms/step - loss: 0.4123 - accuracy: 0.8396 - val_loss: 0.4945 - val_accuracy: 0.8241\n",
            "Epoch 4/5\n",
            "100/100 [==============================] - 54s 537ms/step - loss: 0.4025 - accuracy: 0.8490 - val_loss: 0.4817 - val_accuracy: 0.8315\n",
            "Epoch 5/5\n",
            "100/100 [==============================] - 53s 533ms/step - loss: 0.4192 - accuracy: 0.8377 - val_loss: 0.4712 - val_accuracy: 0.8303\n",
            "===============origin====================\n"
          ]
        },
        {
          "output_type": "stream",
          "name": "stderr",
          "text": [
            "/usr/local/lib/python3.7/dist-packages/ipykernel_launcher.py:11: UserWarning: `Model.fit_generator` is deprecated and will be removed in a future version. Please use `Model.fit`, which supports generators.\n",
            "  # This is added back by InteractiveShellApp.init_path()\n"
          ]
        },
        {
          "output_type": "stream",
          "name": "stdout",
          "text": [
            "Epoch 1/5\n",
            "100/100 [==============================] - 55s 545ms/step - loss: 0.4367 - accuracy: 0.8271 - val_loss: 0.5063 - val_accuracy: 0.8069\n",
            "Epoch 2/5\n",
            "100/100 [==============================] - 53s 535ms/step - loss: 0.4251 - accuracy: 0.8277 - val_loss: 0.4782 - val_accuracy: 0.8204\n",
            "Epoch 3/5\n",
            "100/100 [==============================] - 52s 525ms/step - loss: 0.4202 - accuracy: 0.8358 - val_loss: 0.5009 - val_accuracy: 0.8069\n",
            "Epoch 4/5\n",
            "100/100 [==============================] - 54s 537ms/step - loss: 0.4123 - accuracy: 0.8462 - val_loss: 0.4726 - val_accuracy: 0.8241\n",
            "Epoch 5/5\n",
            "100/100 [==============================] - 54s 541ms/step - loss: 0.3995 - accuracy: 0.8462 - val_loss: 0.4907 - val_accuracy: 0.8315\n",
            "==================================================\n",
            "VGG + Dropout(0.5)\n",
            "==============augmentation==============\n"
          ]
        },
        {
          "output_type": "stream",
          "name": "stderr",
          "text": [
            "/usr/local/lib/python3.7/dist-packages/ipykernel_launcher.py:11: UserWarning: `Model.fit_generator` is deprecated and will be removed in a future version. Please use `Model.fit`, which supports generators.\n",
            "  # This is added back by InteractiveShellApp.init_path()\n"
          ]
        },
        {
          "output_type": "stream",
          "name": "stdout",
          "text": [
            "Epoch 1/5\n",
            "100/100 [==============================] - 55s 542ms/step - loss: 0.6261 - accuracy: 0.7663 - val_loss: 0.5533 - val_accuracy: 0.8216\n",
            "Epoch 2/5\n",
            "100/100 [==============================] - 53s 527ms/step - loss: 0.5973 - accuracy: 0.7823 - val_loss: 0.5656 - val_accuracy: 0.7995\n",
            "Epoch 3/5\n",
            "100/100 [==============================] - 54s 538ms/step - loss: 0.5791 - accuracy: 0.7710 - val_loss: 0.5074 - val_accuracy: 0.8204\n",
            "Epoch 4/5\n",
            "100/100 [==============================] - 53s 528ms/step - loss: 0.5323 - accuracy: 0.7882 - val_loss: 0.4990 - val_accuracy: 0.8364\n",
            "Epoch 5/5\n",
            "100/100 [==============================] - 54s 543ms/step - loss: 0.5319 - accuracy: 0.7964 - val_loss: 0.5247 - val_accuracy: 0.8155\n",
            "===============origin====================\n"
          ]
        },
        {
          "output_type": "stream",
          "name": "stderr",
          "text": [
            "/usr/local/lib/python3.7/dist-packages/ipykernel_launcher.py:11: UserWarning: `Model.fit_generator` is deprecated and will be removed in a future version. Please use `Model.fit`, which supports generators.\n",
            "  # This is added back by InteractiveShellApp.init_path()\n"
          ]
        },
        {
          "output_type": "stream",
          "name": "stdout",
          "text": [
            "Epoch 1/5\n",
            "100/100 [==============================] - 55s 537ms/step - loss: 0.6181 - accuracy: 0.7657 - val_loss: 0.5519 - val_accuracy: 0.8192\n",
            "Epoch 2/5\n",
            "100/100 [==============================] - 52s 524ms/step - loss: 0.5887 - accuracy: 0.7751 - val_loss: 0.5168 - val_accuracy: 0.8339\n",
            "Epoch 3/5\n",
            "100/100 [==============================] - 54s 537ms/step - loss: 0.5932 - accuracy: 0.7835 - val_loss: 0.5317 - val_accuracy: 0.8229\n",
            "Epoch 4/5\n",
            "100/100 [==============================] - 52s 524ms/step - loss: 0.5544 - accuracy: 0.7885 - val_loss: 0.5329 - val_accuracy: 0.8253\n",
            "Epoch 5/5\n",
            "100/100 [==============================] - 54s 538ms/step - loss: 0.5228 - accuracy: 0.8042 - val_loss: 0.5469 - val_accuracy: 0.8180\n",
            "==================================================\n",
            "VGG + Dropout(0.2)\n",
            "==============augmentation==============\n"
          ]
        },
        {
          "output_type": "stream",
          "name": "stderr",
          "text": [
            "/usr/local/lib/python3.7/dist-packages/ipykernel_launcher.py:11: UserWarning: `Model.fit_generator` is deprecated and will be removed in a future version. Please use `Model.fit`, which supports generators.\n",
            "  # This is added back by InteractiveShellApp.init_path()\n"
          ]
        },
        {
          "output_type": "stream",
          "name": "stdout",
          "text": [
            "Epoch 1/5\n",
            "100/100 [==============================] - 54s 534ms/step - loss: 0.3891 - accuracy: 0.8549 - val_loss: 0.5207 - val_accuracy: 0.8426\n",
            "Epoch 2/5\n",
            "100/100 [==============================] - 53s 524ms/step - loss: 0.3971 - accuracy: 0.8534 - val_loss: 0.5066 - val_accuracy: 0.8266\n",
            "Epoch 3/5\n",
            "100/100 [==============================] - 54s 538ms/step - loss: 0.3343 - accuracy: 0.8716 - val_loss: 0.5349 - val_accuracy: 0.8290\n",
            "Epoch 4/5\n",
            "100/100 [==============================] - 53s 535ms/step - loss: 0.3383 - accuracy: 0.8681 - val_loss: 0.4776 - val_accuracy: 0.8290\n",
            "Epoch 5/5\n",
            "100/100 [==============================] - 52s 525ms/step - loss: 0.3257 - accuracy: 0.8806 - val_loss: 0.4496 - val_accuracy: 0.8413\n",
            "===============origin====================\n"
          ]
        },
        {
          "output_type": "stream",
          "name": "stderr",
          "text": [
            "/usr/local/lib/python3.7/dist-packages/ipykernel_launcher.py:11: UserWarning: `Model.fit_generator` is deprecated and will be removed in a future version. Please use `Model.fit`, which supports generators.\n",
            "  # This is added back by InteractiveShellApp.init_path()\n"
          ]
        },
        {
          "output_type": "stream",
          "name": "stdout",
          "text": [
            "Epoch 1/5\n",
            "100/100 [==============================] - 55s 543ms/step - loss: 0.4014 - accuracy: 0.8452 - val_loss: 0.5064 - val_accuracy: 0.8376\n",
            "Epoch 2/5\n",
            "100/100 [==============================] - 54s 539ms/step - loss: 0.3854 - accuracy: 0.8549 - val_loss: 0.5584 - val_accuracy: 0.8130\n",
            "Epoch 3/5\n",
            "100/100 [==============================] - 53s 532ms/step - loss: 0.3800 - accuracy: 0.8549 - val_loss: 0.4776 - val_accuracy: 0.8278\n",
            "Epoch 4/5\n",
            "100/100 [==============================] - 54s 543ms/step - loss: 0.3311 - accuracy: 0.8725 - val_loss: 0.5063 - val_accuracy: 0.8315\n",
            "Epoch 5/5\n",
            "100/100 [==============================] - 53s 533ms/step - loss: 0.3373 - accuracy: 0.8728 - val_loss: 0.5008 - val_accuracy: 0.8426\n",
            "==================================================\n",
            "VGG + Finetuning\n",
            "==============augmentation==============\n"
          ]
        },
        {
          "output_type": "stream",
          "name": "stderr",
          "text": [
            "/usr/local/lib/python3.7/dist-packages/ipykernel_launcher.py:11: UserWarning: `Model.fit_generator` is deprecated and will be removed in a future version. Please use `Model.fit`, which supports generators.\n",
            "  # This is added back by InteractiveShellApp.init_path()\n"
          ]
        },
        {
          "output_type": "stream",
          "name": "stdout",
          "text": [
            "Epoch 1/5\n",
            "100/100 [==============================] - 58s 572ms/step - loss: 1.3864 - accuracy: 0.2397 - val_loss: 1.3863 - val_accuracy: 0.2546\n",
            "Epoch 2/5\n",
            "100/100 [==============================] - 57s 570ms/step - loss: 1.3864 - accuracy: 0.2381 - val_loss: 1.3863 - val_accuracy: 0.2485\n",
            "Epoch 3/5\n",
            "100/100 [==============================] - 58s 578ms/step - loss: 1.3864 - accuracy: 0.2459 - val_loss: 1.3863 - val_accuracy: 0.2546\n",
            "Epoch 4/5\n",
            "100/100 [==============================] - 58s 579ms/step - loss: 1.3864 - accuracy: 0.2422 - val_loss: 1.3863 - val_accuracy: 0.2485\n",
            "Epoch 5/5\n",
            "100/100 [==============================] - 57s 570ms/step - loss: 1.3865 - accuracy: 0.2453 - val_loss: 1.3863 - val_accuracy: 0.2485\n",
            "===============origin====================\n"
          ]
        },
        {
          "output_type": "stream",
          "name": "stderr",
          "text": [
            "/usr/local/lib/python3.7/dist-packages/ipykernel_launcher.py:11: UserWarning: `Model.fit_generator` is deprecated and will be removed in a future version. Please use `Model.fit`, which supports generators.\n",
            "  # This is added back by InteractiveShellApp.init_path()\n"
          ]
        },
        {
          "output_type": "stream",
          "name": "stdout",
          "text": [
            "Epoch 1/5\n",
            "100/100 [==============================] - 59s 582ms/step - loss: 1.3864 - accuracy: 0.2475 - val_loss: 1.3863 - val_accuracy: 0.2485\n",
            "Epoch 2/5\n",
            "100/100 [==============================] - 58s 579ms/step - loss: 1.3864 - accuracy: 0.2419 - val_loss: 1.3863 - val_accuracy: 0.2546\n",
            "Epoch 3/5\n",
            "100/100 [==============================] - 57s 567ms/step - loss: 1.3864 - accuracy: 0.2381 - val_loss: 1.3863 - val_accuracy: 0.2546\n",
            "Epoch 4/5\n",
            "100/100 [==============================] - 58s 574ms/step - loss: 1.3864 - accuracy: 0.2444 - val_loss: 1.3863 - val_accuracy: 0.2546\n",
            "Epoch 5/5\n",
            "100/100 [==============================] - 58s 577ms/step - loss: 1.3864 - accuracy: 0.2462 - val_loss: 1.3863 - val_accuracy: 0.2485\n",
            "==================================================\n",
            "VGG + FineTuning + Dropout\n",
            "==============augmentation==============\n"
          ]
        },
        {
          "output_type": "stream",
          "name": "stderr",
          "text": [
            "/usr/local/lib/python3.7/dist-packages/ipykernel_launcher.py:11: UserWarning: `Model.fit_generator` is deprecated and will be removed in a future version. Please use `Model.fit`, which supports generators.\n",
            "  # This is added back by InteractiveShellApp.init_path()\n"
          ]
        },
        {
          "output_type": "stream",
          "name": "stdout",
          "text": [
            "Epoch 1/5\n",
            "100/100 [==============================] - 58s 572ms/step - loss: 1.3864 - accuracy: 0.2431 - val_loss: 1.3863 - val_accuracy: 0.2546\n",
            "Epoch 2/5\n",
            "100/100 [==============================] - 58s 576ms/step - loss: 1.3864 - accuracy: 0.2397 - val_loss: 1.3863 - val_accuracy: 0.2546\n",
            "Epoch 3/5\n",
            "100/100 [==============================] - 57s 572ms/step - loss: 1.3864 - accuracy: 0.2412 - val_loss: 1.3863 - val_accuracy: 0.2546\n",
            "Epoch 4/5\n",
            "100/100 [==============================] - 56s 562ms/step - loss: 1.3864 - accuracy: 0.2406 - val_loss: 1.3863 - val_accuracy: 0.2546\n",
            "Epoch 5/5\n",
            "100/100 [==============================] - 58s 575ms/step - loss: 1.3864 - accuracy: 0.2387 - val_loss: 1.3863 - val_accuracy: 0.2485\n",
            "===============origin====================\n"
          ]
        },
        {
          "output_type": "stream",
          "name": "stderr",
          "text": [
            "/usr/local/lib/python3.7/dist-packages/ipykernel_launcher.py:11: UserWarning: `Model.fit_generator` is deprecated and will be removed in a future version. Please use `Model.fit`, which supports generators.\n",
            "  # This is added back by InteractiveShellApp.init_path()\n"
          ]
        },
        {
          "output_type": "stream",
          "name": "stdout",
          "text": [
            "Epoch 1/5\n",
            "100/100 [==============================] - 59s 581ms/step - loss: 1.3864 - accuracy: 0.2331 - val_loss: 1.3863 - val_accuracy: 0.2485\n",
            "Epoch 2/5\n",
            "100/100 [==============================] - 56s 564ms/step - loss: 1.3865 - accuracy: 0.2434 - val_loss: 1.3863 - val_accuracy: 0.2485\n",
            "Epoch 3/5\n",
            "100/100 [==============================] - 56s 564ms/step - loss: 1.3864 - accuracy: 0.2487 - val_loss: 1.3863 - val_accuracy: 0.2485\n",
            "Epoch 4/5\n",
            "100/100 [==============================] - 56s 562ms/step - loss: 1.3864 - accuracy: 0.2318 - val_loss: 1.3863 - val_accuracy: 0.2485\n",
            "Epoch 5/5\n",
            "100/100 [==============================] - 56s 562ms/step - loss: 1.3864 - accuracy: 0.2447 - val_loss: 1.3863 - val_accuracy: 0.2546\n",
            "==================================================\n",
            "기본 Resnet Model & Flatten\n",
            "==============augmentation==============\n"
          ]
        },
        {
          "output_type": "stream",
          "name": "stderr",
          "text": [
            "/usr/local/lib/python3.7/dist-packages/ipykernel_launcher.py:11: UserWarning: `Model.fit_generator` is deprecated and will be removed in a future version. Please use `Model.fit`, which supports generators.\n",
            "  # This is added back by InteractiveShellApp.init_path()\n"
          ]
        },
        {
          "output_type": "stream",
          "name": "stdout",
          "text": [
            "Epoch 1/5\n",
            "100/100 [==============================] - 56s 539ms/step - loss: 1.2252 - accuracy: 0.4383 - val_loss: 1.1895 - val_accuracy: 0.4932\n",
            "Epoch 2/5\n",
            "100/100 [==============================] - 52s 525ms/step - loss: 1.1986 - accuracy: 0.4590 - val_loss: 1.1648 - val_accuracy: 0.4871\n",
            "Epoch 3/5\n",
            "100/100 [==============================] - 52s 524ms/step - loss: 1.1769 - accuracy: 0.4787 - val_loss: 1.1623 - val_accuracy: 0.5043\n",
            "Epoch 4/5\n",
            "100/100 [==============================] - 52s 522ms/step - loss: 1.1814 - accuracy: 0.4580 - val_loss: 1.2291 - val_accuracy: 0.4391\n",
            "Epoch 5/5\n",
            "100/100 [==============================] - 52s 523ms/step - loss: 1.1804 - accuracy: 0.4583 - val_loss: 1.3035 - val_accuracy: 0.3985\n",
            "===============origin====================\n"
          ]
        },
        {
          "output_type": "stream",
          "name": "stderr",
          "text": [
            "/usr/local/lib/python3.7/dist-packages/ipykernel_launcher.py:25: UserWarning: `Model.fit_generator` is deprecated and will be removed in a future version. Please use `Model.fit`, which supports generators.\n"
          ]
        },
        {
          "output_type": "stream",
          "name": "stdout",
          "text": [
            "Epoch 1/5\n",
            "100/100 [==============================] - 42s 397ms/step - loss: 1.1403 - accuracy: 0.4959 - val_loss: 1.1804 - val_accuracy: 0.4662\n",
            "Epoch 2/5\n",
            "100/100 [==============================] - 39s 385ms/step - loss: 1.1203 - accuracy: 0.5094 - val_loss: 1.1506 - val_accuracy: 0.4809\n",
            "Epoch 3/5\n",
            "100/100 [==============================] - 38s 385ms/step - loss: 1.0867 - accuracy: 0.5310 - val_loss: 1.1827 - val_accuracy: 0.4465\n",
            "Epoch 4/5\n",
            "100/100 [==============================] - 38s 384ms/step - loss: 1.0645 - accuracy: 0.5357 - val_loss: 1.1279 - val_accuracy: 0.5178\n",
            "Epoch 5/5\n",
            "100/100 [==============================] - 38s 383ms/step - loss: 1.0558 - accuracy: 0.5467 - val_loss: 1.1572 - val_accuracy: 0.4834\n",
            "==================================================\n",
            "기본 Resnet Model & Pooling\n",
            "==============augmentation==============\n"
          ]
        },
        {
          "output_type": "stream",
          "name": "stderr",
          "text": [
            "/usr/local/lib/python3.7/dist-packages/ipykernel_launcher.py:11: UserWarning: `Model.fit_generator` is deprecated and will be removed in a future version. Please use `Model.fit`, which supports generators.\n",
            "  # This is added back by InteractiveShellApp.init_path()\n"
          ]
        },
        {
          "output_type": "stream",
          "name": "stdout",
          "text": [
            "Epoch 1/5\n",
            "100/100 [==============================] - 56s 535ms/step - loss: 1.2343 - accuracy: 0.4339 - val_loss: 1.2007 - val_accuracy: 0.4526\n",
            "Epoch 2/5\n",
            "100/100 [==============================] - 52s 525ms/step - loss: 1.2338 - accuracy: 0.4305 - val_loss: 1.1736 - val_accuracy: 0.4736\n",
            "Epoch 3/5\n",
            "100/100 [==============================] - 53s 530ms/step - loss: 1.2212 - accuracy: 0.4427 - val_loss: 1.1716 - val_accuracy: 0.4908\n",
            "Epoch 4/5\n",
            "100/100 [==============================] - 53s 527ms/step - loss: 1.2249 - accuracy: 0.4276 - val_loss: 1.1665 - val_accuracy: 0.4822\n",
            "Epoch 5/5\n",
            "100/100 [==============================] - 52s 524ms/step - loss: 1.2135 - accuracy: 0.4474 - val_loss: 1.1683 - val_accuracy: 0.4920\n",
            "===============origin====================\n"
          ]
        },
        {
          "output_type": "stream",
          "name": "stderr",
          "text": [
            "/usr/local/lib/python3.7/dist-packages/ipykernel_launcher.py:25: UserWarning: `Model.fit_generator` is deprecated and will be removed in a future version. Please use `Model.fit`, which supports generators.\n"
          ]
        },
        {
          "output_type": "stream",
          "name": "stdout",
          "text": [
            "Epoch 1/5\n",
            "100/100 [==============================] - 42s 398ms/step - loss: 1.1680 - accuracy: 0.4846 - val_loss: 1.1659 - val_accuracy: 0.4736\n",
            "Epoch 2/5\n",
            "100/100 [==============================] - 38s 385ms/step - loss: 1.1538 - accuracy: 0.4928 - val_loss: 1.1846 - val_accuracy: 0.4563\n",
            "Epoch 3/5\n",
            "100/100 [==============================] - 38s 385ms/step - loss: 1.1514 - accuracy: 0.4950 - val_loss: 1.1545 - val_accuracy: 0.4797\n",
            "Epoch 4/5\n",
            "100/100 [==============================] - 39s 387ms/step - loss: 1.1394 - accuracy: 0.5031 - val_loss: 1.2306 - val_accuracy: 0.4244\n",
            "Epoch 5/5\n",
            "100/100 [==============================] - 39s 387ms/step - loss: 1.1339 - accuracy: 0.5022 - val_loss: 1.1892 - val_accuracy: 0.4526\n",
            "==================================================\n",
            "Resnet + Dropout(0.5)\n",
            "==============augmentation==============\n"
          ]
        },
        {
          "output_type": "stream",
          "name": "stderr",
          "text": [
            "/usr/local/lib/python3.7/dist-packages/ipykernel_launcher.py:11: UserWarning: `Model.fit_generator` is deprecated and will be removed in a future version. Please use `Model.fit`, which supports generators.\n",
            "  # This is added back by InteractiveShellApp.init_path()\n"
          ]
        },
        {
          "output_type": "stream",
          "name": "stdout",
          "text": [
            "Epoch 1/5\n",
            "100/100 [==============================] - 57s 540ms/step - loss: 1.3864 - accuracy: 0.2387 - val_loss: 1.3863 - val_accuracy: 0.2485\n",
            "Epoch 2/5\n",
            "100/100 [==============================] - 52s 520ms/step - loss: 1.3865 - accuracy: 0.2315 - val_loss: 1.3863 - val_accuracy: 0.2546\n",
            "Epoch 3/5\n",
            "100/100 [==============================] - 52s 523ms/step - loss: 1.3864 - accuracy: 0.2506 - val_loss: 1.3863 - val_accuracy: 0.2546\n",
            "Epoch 4/5\n",
            "100/100 [==============================] - 53s 526ms/step - loss: 1.3865 - accuracy: 0.2400 - val_loss: 1.3863 - val_accuracy: 0.2546\n",
            "Epoch 5/5\n",
            "100/100 [==============================] - 52s 525ms/step - loss: 1.3864 - accuracy: 0.2437 - val_loss: 1.3863 - val_accuracy: 0.2485\n",
            "===============origin====================\n"
          ]
        },
        {
          "output_type": "stream",
          "name": "stderr",
          "text": [
            "/usr/local/lib/python3.7/dist-packages/ipykernel_launcher.py:25: UserWarning: `Model.fit_generator` is deprecated and will be removed in a future version. Please use `Model.fit`, which supports generators.\n"
          ]
        },
        {
          "output_type": "stream",
          "name": "stdout",
          "text": [
            "Epoch 1/5\n",
            "100/100 [==============================] - 43s 400ms/step - loss: 1.3863 - accuracy: 0.2462 - val_loss: 1.3863 - val_accuracy: 0.2485\n",
            "Epoch 2/5\n",
            "100/100 [==============================] - 39s 393ms/step - loss: 1.3864 - accuracy: 0.2550 - val_loss: 1.3863 - val_accuracy: 0.2485\n",
            "Epoch 3/5\n",
            "100/100 [==============================] - 39s 390ms/step - loss: 1.3864 - accuracy: 0.2415 - val_loss: 1.3863 - val_accuracy: 0.2485\n",
            "Epoch 4/5\n",
            "100/100 [==============================] - 39s 394ms/step - loss: 1.3865 - accuracy: 0.2409 - val_loss: 1.3863 - val_accuracy: 0.2546\n",
            "Epoch 5/5\n",
            "100/100 [==============================] - 39s 395ms/step - loss: 1.3864 - accuracy: 0.2409 - val_loss: 1.3863 - val_accuracy: 0.2485\n",
            "==================================================\n",
            "Resnet + Dropout(0.2)\n",
            "==============augmentation==============\n"
          ]
        },
        {
          "output_type": "stream",
          "name": "stderr",
          "text": [
            "/usr/local/lib/python3.7/dist-packages/ipykernel_launcher.py:11: UserWarning: `Model.fit_generator` is deprecated and will be removed in a future version. Please use `Model.fit`, which supports generators.\n",
            "  # This is added back by InteractiveShellApp.init_path()\n"
          ]
        },
        {
          "output_type": "stream",
          "name": "stdout",
          "text": [
            "Epoch 1/5\n",
            "100/100 [==============================] - 57s 535ms/step - loss: 1.3591 - accuracy: 0.2989 - val_loss: 1.3850 - val_accuracy: 0.2571\n",
            "Epoch 2/5\n",
            "100/100 [==============================] - 53s 527ms/step - loss: 1.3473 - accuracy: 0.3029 - val_loss: 1.3227 - val_accuracy: 0.3321\n",
            "Epoch 3/5\n",
            "100/100 [==============================] - 53s 528ms/step - loss: 1.3386 - accuracy: 0.3174 - val_loss: 1.3187 - val_accuracy: 0.3481\n",
            "Epoch 4/5\n",
            "100/100 [==============================] - 55s 553ms/step - loss: 1.3623 - accuracy: 0.2785 - val_loss: 1.3390 - val_accuracy: 0.3026\n",
            "Epoch 5/5\n",
            "100/100 [==============================] - 53s 526ms/step - loss: 1.3407 - accuracy: 0.3108 - val_loss: 1.3286 - val_accuracy: 0.3235\n",
            "===============origin====================\n"
          ]
        },
        {
          "output_type": "stream",
          "name": "stderr",
          "text": [
            "/usr/local/lib/python3.7/dist-packages/ipykernel_launcher.py:25: UserWarning: `Model.fit_generator` is deprecated and will be removed in a future version. Please use `Model.fit`, which supports generators.\n"
          ]
        },
        {
          "output_type": "stream",
          "name": "stdout",
          "text": [
            "Epoch 1/5\n",
            "100/100 [==============================] - 46s 433ms/step - loss: 1.3396 - accuracy: 0.3001 - val_loss: 1.3171 - val_accuracy: 0.3321\n",
            "Epoch 2/5\n",
            "100/100 [==============================] - 39s 391ms/step - loss: 1.3305 - accuracy: 0.3152 - val_loss: 1.3730 - val_accuracy: 0.2681\n",
            "Epoch 3/5\n",
            "100/100 [==============================] - 39s 392ms/step - loss: 1.3570 - accuracy: 0.2845 - val_loss: 1.3438 - val_accuracy: 0.3149\n",
            "Epoch 4/5\n",
            "100/100 [==============================] - 39s 392ms/step - loss: 1.3191 - accuracy: 0.3183 - val_loss: 1.3133 - val_accuracy: 0.3333\n",
            "Epoch 5/5\n",
            "100/100 [==============================] - 39s 391ms/step - loss: 1.3196 - accuracy: 0.3155 - val_loss: 1.3188 - val_accuracy: 0.3346\n",
            "==================================================\n",
            "Resnet + Finetuning\n",
            "==============augmentation==============\n"
          ]
        },
        {
          "output_type": "stream",
          "name": "stderr",
          "text": [
            "/usr/local/lib/python3.7/dist-packages/ipykernel_launcher.py:11: UserWarning: `Model.fit_generator` is deprecated and will be removed in a future version. Please use `Model.fit`, which supports generators.\n",
            "  # This is added back by InteractiveShellApp.init_path()\n"
          ]
        },
        {
          "output_type": "stream",
          "name": "stdout",
          "text": [
            "Epoch 1/5\n",
            "100/100 [==============================] - 66s 615ms/step - loss: 0.5170 - accuracy: 0.8252 - val_loss: 3.8407 - val_accuracy: 0.7331\n",
            "Epoch 2/5\n",
            "100/100 [==============================] - 56s 558ms/step - loss: 0.4433 - accuracy: 0.8537 - val_loss: 0.8061 - val_accuracy: 0.8253\n",
            "Epoch 3/5\n",
            "100/100 [==============================] - 56s 556ms/step - loss: 0.4844 - accuracy: 0.8387 - val_loss: 0.9688 - val_accuracy: 0.7417\n",
            "Epoch 4/5\n",
            "100/100 [==============================] - 56s 556ms/step - loss: 0.3761 - accuracy: 0.8722 - val_loss: 2.8489 - val_accuracy: 0.8290\n",
            "Epoch 5/5\n",
            "100/100 [==============================] - 56s 555ms/step - loss: 0.3353 - accuracy: 0.8916 - val_loss: 3.0518 - val_accuracy: 0.7146\n",
            "===============origin====================\n"
          ]
        },
        {
          "output_type": "stream",
          "name": "stderr",
          "text": [
            "/usr/local/lib/python3.7/dist-packages/ipykernel_launcher.py:25: UserWarning: `Model.fit_generator` is deprecated and will be removed in a future version. Please use `Model.fit`, which supports generators.\n"
          ]
        },
        {
          "output_type": "stream",
          "name": "stdout",
          "text": [
            "Epoch 1/5\n",
            "100/100 [==============================] - 50s 446ms/step - loss: 0.3725 - accuracy: 0.8678 - val_loss: 0.6009 - val_accuracy: 0.8327\n",
            "Epoch 2/5\n",
            "100/100 [==============================] - 42s 417ms/step - loss: 0.3075 - accuracy: 0.9076 - val_loss: 8.3988 - val_accuracy: 0.5547\n",
            "Epoch 3/5\n",
            "100/100 [==============================] - 42s 417ms/step - loss: 0.2267 - accuracy: 0.9289 - val_loss: 0.5209 - val_accuracy: 0.8721\n",
            "Epoch 4/5\n",
            "100/100 [==============================] - 41s 413ms/step - loss: 0.1397 - accuracy: 0.9511 - val_loss: 0.6094 - val_accuracy: 0.8684\n",
            "Epoch 5/5\n",
            "100/100 [==============================] - 42s 417ms/step - loss: 0.0835 - accuracy: 0.9731 - val_loss: 0.5436 - val_accuracy: 0.8659\n",
            "==================================================\n",
            "Resnet + FineTuning + Dropout\n",
            "==============augmentation==============\n"
          ]
        },
        {
          "output_type": "stream",
          "name": "stderr",
          "text": [
            "/usr/local/lib/python3.7/dist-packages/ipykernel_launcher.py:11: UserWarning: `Model.fit_generator` is deprecated and will be removed in a future version. Please use `Model.fit`, which supports generators.\n",
            "  # This is added back by InteractiveShellApp.init_path()\n"
          ]
        },
        {
          "output_type": "stream",
          "name": "stdout",
          "text": [
            "Epoch 1/5\n",
            "100/100 [==============================] - 64s 591ms/step - loss: 0.6464 - accuracy: 0.7932 - val_loss: 1.9052 - val_accuracy: 0.6605\n",
            "Epoch 2/5\n",
            "100/100 [==============================] - 56s 559ms/step - loss: 0.4924 - accuracy: 0.8437 - val_loss: 0.8239 - val_accuracy: 0.7355\n",
            "Epoch 3/5\n",
            "100/100 [==============================] - 56s 556ms/step - loss: 0.4505 - accuracy: 0.8490 - val_loss: 0.4043 - val_accuracy: 0.8659\n",
            "Epoch 4/5\n",
            "100/100 [==============================] - 56s 556ms/step - loss: 0.3674 - accuracy: 0.8759 - val_loss: 0.4607 - val_accuracy: 0.8229\n",
            "Epoch 5/5\n",
            "100/100 [==============================] - 56s 555ms/step - loss: 0.3388 - accuracy: 0.8853 - val_loss: 0.3790 - val_accuracy: 0.8684\n",
            "===============origin====================\n"
          ]
        },
        {
          "output_type": "stream",
          "name": "stderr",
          "text": [
            "/usr/local/lib/python3.7/dist-packages/ipykernel_launcher.py:25: UserWarning: `Model.fit_generator` is deprecated and will be removed in a future version. Please use `Model.fit`, which supports generators.\n"
          ]
        },
        {
          "output_type": "stream",
          "name": "stdout",
          "text": [
            "Epoch 1/5\n",
            "100/100 [==============================] - 54s 492ms/step - loss: 0.4136 - accuracy: 0.8609 - val_loss: 0.6611 - val_accuracy: 0.8598\n",
            "Epoch 2/5\n",
            "100/100 [==============================] - 43s 429ms/step - loss: 0.2724 - accuracy: 0.9145 - val_loss: 0.6121 - val_accuracy: 0.8438\n",
            "Epoch 3/5\n",
            "100/100 [==============================] - 42s 419ms/step - loss: 0.1985 - accuracy: 0.9330 - val_loss: 0.6802 - val_accuracy: 0.8290\n",
            "Epoch 4/5\n",
            "100/100 [==============================] - 43s 427ms/step - loss: 0.1616 - accuracy: 0.9514 - val_loss: 0.8783 - val_accuracy: 0.8069\n",
            "Epoch 5/5\n",
            "100/100 [==============================] - 42s 421ms/step - loss: 0.4417 - accuracy: 0.8678 - val_loss: 48.0874 - val_accuracy: 0.3702\n",
            "==================================================\n"
          ]
        }
      ]
    },
    {
      "cell_type": "code",
      "source": [
        "### model overfitting, underfitting 확인\n",
        "\n",
        "import matplotlib.pyplot as plt\n",
        "\n",
        "def model_accuracy(model, model_info):\n",
        "    \n",
        "    print(\"============\",model_info,\"============\")\n",
        "    \n",
        "    plt.plot(model.history['accuracy'])\n",
        "    # plt.plot(model.history['val_acc'])\n",
        "    plt.title('Model accuracy')\n",
        "    plt.ylabel('Accuracy')\n",
        "    plt.xlabel('epoch')\n",
        "    plt.legend(['train', 'test'], loc='upper left')\n",
        "    plt.show()\n",
        "\n",
        "    plt.plot(model.history['loss'])\n",
        "    # plt.plot(model.history['val_loss'])\n",
        "    plt.title('Model loss')\n",
        "    plt.ylabel('Loss')\n",
        "    plt.xlabel('Epoch')\n",
        "    plt.legend(['train', 'test'], loc='upper left')\n",
        "    plt.show()\n",
        "\n"
      ],
      "metadata": {
        "id": "wpXLs6W9OwTj"
      },
      "execution_count": null,
      "outputs": []
    },
    {
      "cell_type": "code",
      "source": [
        "\n",
        "for idx, hist in enumerate(vg_ag_data_hist):\n",
        "  model_accuracy(hist, \"Augmentation + \" + vgg_info_list[idx])\n",
        "  model_accuracy(vg_ori_data_hist, \"Augmentation + \" + vgg_info_list[idx])\n",
        "  \n",
        "intel gpu"
      ],
      "metadata": {
        "id": "_hHMYOUsOyfP",
        "colab": {
          "base_uri": "https://localhost:8080/",
          "height": 229
        },
        "outputId": "8b78acc9-2201-4958-8ed8-e68212139105"
      },
      "execution_count": null,
      "outputs": [
        {
          "output_type": "error",
          "ename": "NameError",
          "evalue": "ignored",
          "traceback": [
            "\u001b[0;31m---------------------------------------------------------------------------\u001b[0m",
            "\u001b[0;31mNameError\u001b[0m                                 Traceback (most recent call last)",
            "\u001b[0;32m<ipython-input-1-8d3f246ef09d>\u001b[0m in \u001b[0;36m<module>\u001b[0;34m\u001b[0m\n\u001b[0;32m----> 1\u001b[0;31m \u001b[0;32mfor\u001b[0m \u001b[0midx\u001b[0m\u001b[0;34m,\u001b[0m \u001b[0mhist\u001b[0m \u001b[0;32min\u001b[0m \u001b[0menumerate\u001b[0m\u001b[0;34m(\u001b[0m\u001b[0mvg_ag_data_hist\u001b[0m\u001b[0;34m)\u001b[0m\u001b[0;34m:\u001b[0m\u001b[0;34m\u001b[0m\u001b[0;34m\u001b[0m\u001b[0m\n\u001b[0m\u001b[1;32m      2\u001b[0m   \u001b[0mmodel_accuracy\u001b[0m\u001b[0;34m(\u001b[0m\u001b[0mhist\u001b[0m\u001b[0;34m,\u001b[0m \u001b[0;34m\"Augmentation + \"\u001b[0m \u001b[0;34m+\u001b[0m \u001b[0mvgg_info_list\u001b[0m\u001b[0;34m[\u001b[0m\u001b[0midx\u001b[0m\u001b[0;34m]\u001b[0m\u001b[0;34m)\u001b[0m\u001b[0;34m\u001b[0m\u001b[0;34m\u001b[0m\u001b[0m\n\u001b[1;32m      3\u001b[0m   \u001b[0mmodel_accuracy\u001b[0m\u001b[0;34m(\u001b[0m\u001b[0mvg_ori_data_hist\u001b[0m\u001b[0;34m,\u001b[0m \u001b[0;34m\"Augmentation + \"\u001b[0m \u001b[0;34m+\u001b[0m \u001b[0mvgg_info_list\u001b[0m\u001b[0;34m[\u001b[0m\u001b[0midx\u001b[0m\u001b[0;34m]\u001b[0m\u001b[0;34m)\u001b[0m\u001b[0;34m\u001b[0m\u001b[0;34m\u001b[0m\u001b[0m\n\u001b[1;32m      4\u001b[0m \u001b[0;34m\u001b[0m\u001b[0m\n",
            "\u001b[0;31mNameError\u001b[0m: name 'vg_ag_data_hist' is not defined"
          ]
        }
      ]
    },
    {
      "cell_type": "code",
      "source": [
        "\n",
        "for idx, hist in enumerate(vg_ag_data_hist_fin):\n",
        "  model_accuracy(hist, \"Augmentation + \" + vgg_info_list[idx])\n",
        "  model_accuracy(vg_ori_data_hist_fin, \"Augmentation + \" + vgg_info_list[idx])\n",
        "  \n"
      ],
      "metadata": {
        "id": "NTRuBSr8lX7C"
      },
      "execution_count": null,
      "outputs": []
    },
    {
      "cell_type": "code",
      "source": [
        "\n",
        "for idx, hist in enumerate(resnet_ag_data_hist):\n",
        "  model_accuracy(hist, \"Augmentation + \" + resnet_info_list[idx])\n",
        "  model_accuracy(resnet_ori_data_hist, \"Augmentation + \" + resnet_info_list[idx])\n",
        "  \n"
      ],
      "metadata": {
        "id": "as-DCnKAlKFD"
      },
      "execution_count": null,
      "outputs": []
    },
    {
      "cell_type": "code",
      "source": [
        "\n",
        "for idx, hist in enumerate(resnet_ag_data_hist_fin):\n",
        "  model_accuracy(hist, \"Augmentation + \" + resnet_info_list[idx])\n",
        "  model_accuracy(resnet_ori_data_hist_fin, \"Augmentation + \" + resnet_info_list[idx])\n",
        "  \n"
      ],
      "metadata": {
        "id": "2rnW49UGlUKD"
      },
      "execution_count": null,
      "outputs": []
    }
  ]
}